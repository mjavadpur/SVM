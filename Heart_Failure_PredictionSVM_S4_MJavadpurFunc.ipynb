{
  "cells": [
    {
      "cell_type": "markdown",
      "metadata": {
        "id": "view-in-github",
        "colab_type": "text"
      },
      "source": [
        "<a href=\"https://colab.research.google.com/github/mjavadpur/SVM/blob/main/Heart_Failure_PredictionSVM_S4_MJavadpurFunc.ipynb\" target=\"_parent\"><img src=\"https://colab.research.google.com/assets/colab-badge.svg\" alt=\"Open In Colab\"/></a>"
      ]
    },
    {
      "cell_type": "markdown",
      "source": [
        "<div style=\"border-radius:10px;\n",
        "            border : black solid;\n",
        "            background-color: \t#FFFFF0;\n",
        "            font-size:110%;\n",
        "            text-align: left\">\n",
        "\n",
        "<h2 style='; border:0; border-radius: 10px; font-weight: bold; color:black'><center>About the data (Description of attributes)</center></h2>  \n",
        "    \n",
        "* **age:** Age of the patient \n",
        "* **anaemia:** Haemoglobin level of patient (Boolean) \n",
        "* **creatinine_phosphokinase:** Level of the CPK enzyme in the blood (mcg/L)\n",
        "* **diabetes:** If the patient has diabetes (Boolean)\n",
        "* **ejection_fraction:** Percentage of blood leaving the heart at each contraction\n",
        "* **high_blood_pressure:** If the patient has hypertension (Boolean) \n",
        "* **platelets:** Platelet count of blood (kiloplatelets/mL)\n",
        "* **serum_creatinine:** Level of serum creatinine in the blood (mg/dL)\n",
        "* **serum_sodium:** Level of serum sodium in the blood (mEq/L)\n",
        "* **sex:** Sex of the patient\n",
        "* **smoking:** If the patient smokes or not (Boolean) \n",
        "* **time:** Follow-up period (days) \n",
        "* **DEATH_EVENT:** If the patient deceased during the follow-up period (Boolean)\n",
        "\n",
        "**[Attributes having Boolean values:** 0 = Negative (No); 1 = Positive (Yes)]"
      ],
      "metadata": {
        "id": "Z3MuTlIWqpa0"
      },
      "id": "Z3MuTlIWqpa0"
    },
    {
      "cell_type": "markdown",
      "id": "09f4208a",
      "metadata": {
        "id": "09f4208a"
      },
      "source": [
        "# Step 1: Import Libararies"
      ]
    },
    {
      "cell_type": "code",
      "execution_count": 58,
      "id": "5d4504d6",
      "metadata": {
        "id": "5d4504d6"
      },
      "outputs": [],
      "source": [
        "import numpy as np\n",
        "import pandas as pd\n",
        "import matplotlib.pyplot as plt\n",
        "import seaborn as sns\n",
        "%matplotlib inline"
      ]
    },
    {
      "cell_type": "markdown",
      "id": "4ccfecd3",
      "metadata": {
        "id": "4ccfecd3"
      },
      "source": [
        "# Step 2:  Import Dataset"
      ]
    },
    {
      "cell_type": "code",
      "source": [
        "from google.colab import drive\n",
        "drive.mount('/content/drive')"
      ],
      "metadata": {
        "colab": {
          "base_uri": "https://localhost:8080/"
        },
        "id": "1aow4pDIrg0N",
        "outputId": "007f301f-a08c-4b11-d982-9e35d874d6ec"
      },
      "id": "1aow4pDIrg0N",
      "execution_count": 59,
      "outputs": [
        {
          "output_type": "stream",
          "name": "stdout",
          "text": [
            "Drive already mounted at /content/drive; to attempt to forcibly remount, call drive.mount(\"/content/drive\", force_remount=True).\n"
          ]
        }
      ]
    },
    {
      "cell_type": "code",
      "execution_count": 60,
      "id": "1f376c6d",
      "metadata": {
        "id": "1f376c6d"
      },
      "outputs": [],
      "source": [
        "import pandas as pd\n",
        "data=pd.read_csv('/content/drive/MyDrive/Workshop/SVM/heart_failure_clinical_records_dataset.csv')"
      ]
    },
    {
      "cell_type": "markdown",
      "id": "de0a2f15",
      "metadata": {
        "id": "de0a2f15"
      },
      "source": [
        "# Step 3: Dataset overview"
      ]
    },
    {
      "cell_type": "code",
      "execution_count": 61,
      "id": "b2c37b19",
      "metadata": {
        "id": "b2c37b19",
        "outputId": "5233e1a1-579a-4164-bd05-6c11e7824e52",
        "colab": {
          "base_uri": "https://localhost:8080/"
        }
      },
      "outputs": [
        {
          "output_type": "stream",
          "name": "stdout",
          "text": [
            "<class 'pandas.core.frame.DataFrame'>\n",
            "RangeIndex: 299 entries, 0 to 298\n",
            "Data columns (total 13 columns):\n",
            " #   Column                    Non-Null Count  Dtype  \n",
            "---  ------                    --------------  -----  \n",
            " 0   age                       299 non-null    float64\n",
            " 1   anaemia                   299 non-null    int64  \n",
            " 2   creatinine_phosphokinase  299 non-null    int64  \n",
            " 3   diabetes                  299 non-null    int64  \n",
            " 4   ejection_fraction         299 non-null    int64  \n",
            " 5   high_blood_pressure       299 non-null    int64  \n",
            " 6   platelets                 299 non-null    float64\n",
            " 7   serum_creatinine          299 non-null    float64\n",
            " 8   serum_sodium              299 non-null    int64  \n",
            " 9   sex                       299 non-null    int64  \n",
            " 10  smoking                   299 non-null    int64  \n",
            " 11  time                      299 non-null    int64  \n",
            " 12  DEATH_EVENT               299 non-null    int64  \n",
            "dtypes: float64(3), int64(10)\n",
            "memory usage: 30.5 KB\n"
          ]
        }
      ],
      "source": [
        "data.info()"
      ]
    },
    {
      "cell_type": "code",
      "source": [
        "data.columns"
      ],
      "metadata": {
        "colab": {
          "base_uri": "https://localhost:8080/"
        },
        "id": "Ah6FXEUvsED4",
        "outputId": "0cc30491-7225-473a-bb4a-84d9ddd69be0"
      },
      "id": "Ah6FXEUvsED4",
      "execution_count": 62,
      "outputs": [
        {
          "output_type": "execute_result",
          "data": {
            "text/plain": [
              "Index(['age', 'anaemia', 'creatinine_phosphokinase', 'diabetes',\n",
              "       'ejection_fraction', 'high_blood_pressure', 'platelets',\n",
              "       'serum_creatinine', 'serum_sodium', 'sex', 'smoking', 'time',\n",
              "       'DEATH_EVENT'],\n",
              "      dtype='object')"
            ]
          },
          "metadata": {},
          "execution_count": 62
        }
      ]
    },
    {
      "cell_type": "code",
      "execution_count": 63,
      "id": "8022da22",
      "metadata": {
        "id": "8022da22",
        "outputId": "f09a5cac-590b-4e58-b6b7-4edfd0e8bef2",
        "colab": {
          "base_uri": "https://localhost:8080/"
        }
      },
      "outputs": [
        {
          "output_type": "stream",
          "name": "stdout",
          "text": [
            "<class 'pandas.core.frame.DataFrame'>\n",
            "RangeIndex: 299 entries, 0 to 298\n",
            "Data columns (total 13 columns):\n",
            " #   Column                    Non-Null Count  Dtype  \n",
            "---  ------                    --------------  -----  \n",
            " 0   age                       299 non-null    float64\n",
            " 1   anaemia                   299 non-null    int64  \n",
            " 2   creatinine_phosphokinase  299 non-null    int64  \n",
            " 3   diabetes                  299 non-null    int64  \n",
            " 4   ejection_fraction         299 non-null    int64  \n",
            " 5   high_blood_pressure       299 non-null    int64  \n",
            " 6   platelets                 299 non-null    float64\n",
            " 7   serum_creatinine          299 non-null    float64\n",
            " 8   serum_sodium              299 non-null    int64  \n",
            " 9   sex                       299 non-null    int64  \n",
            " 10  smoking                   299 non-null    int64  \n",
            " 11  time                      299 non-null    int64  \n",
            " 12  DEATH_EVENT               299 non-null    int64  \n",
            "dtypes: float64(3), int64(10)\n",
            "memory usage: 30.5 KB\n"
          ]
        }
      ],
      "source": [
        "df = data.copy()\n",
        "df.info()"
      ]
    },
    {
      "cell_type": "code",
      "execution_count": 64,
      "id": "c408a980",
      "metadata": {
        "id": "c408a980",
        "outputId": "81612eaa-bc37-41dc-d148-03fecf8c9136",
        "colab": {
          "base_uri": "https://localhost:8080/"
        }
      },
      "outputs": [
        {
          "output_type": "execute_result",
          "data": {
            "text/plain": [
              "DEATH_EVENT                 1.000000\n",
              "serum_creatinine            0.294278\n",
              "age                         0.253729\n",
              "high_blood_pressure         0.079351\n",
              "anaemia                     0.066270\n",
              "creatinine_phosphokinase    0.062728\n",
              "diabetes                   -0.001943\n",
              "sex                        -0.004316\n",
              "smoking                    -0.012623\n",
              "platelets                  -0.049139\n",
              "serum_sodium               -0.195204\n",
              "ejection_fraction          -0.268603\n",
              "time                       -0.526964\n",
              "Name: DEATH_EVENT, dtype: float64"
            ]
          },
          "metadata": {},
          "execution_count": 64
        }
      ],
      "source": [
        "corr = df.corr()\n",
        "corr['DEATH_EVENT'].sort_values(ascending=False)"
      ]
    },
    {
      "cell_type": "markdown",
      "id": "0116c372",
      "metadata": {
        "id": "0116c372"
      },
      "source": [
        "# Step 4: EDA"
      ]
    },
    {
      "cell_type": "code",
      "execution_count": 65,
      "id": "ca864edf",
      "metadata": {
        "id": "ca864edf",
        "outputId": "823ed1ad-cead-4b71-ff3f-34db34e91e24",
        "colab": {
          "base_uri": "https://localhost:8080/"
        }
      },
      "outputs": [
        {
          "output_type": "stream",
          "name": "stdout",
          "text": [
            "Categorical Features are :  ['anaemia', 'diabetes', 'high_blood_pressure', 'sex', 'smoking']\n",
            "Continuous Features are :  ['age', 'creatinine_phosphokinase', 'ejection_fraction', 'platelets', 'serum_creatinine', 'serum_sodium', 'time']\n"
          ]
        }
      ],
      "source": [
        "categorical_features = ['anaemia', 'diabetes', 'high_blood_pressure', 'sex', 'smoking']\n",
        "\n",
        "numerical_features = ['age', 'creatinine_phosphokinase', 'ejection_fraction', 'platelets', 'serum_creatinine', 'serum_sodium','time']\n",
        "\n",
        "\n",
        "\n",
        "print('Categorical Features are : ', categorical_features)\n",
        "\n",
        "print('Continuous Features are : ', numerical_features)\n",
        "\n",
        "\n"
      ]
    },
    {
      "cell_type": "markdown",
      "id": "4ae47f39",
      "metadata": {
        "id": "4ae47f39"
      },
      "source": [
        "# Step 5: Data prepration (pre_processing)"
      ]
    },
    {
      "cell_type": "code",
      "source": [
        "from sklearn.neighbors import LocalOutlierFactor"
      ],
      "metadata": {
        "id": "8fI9F7bycgFq"
      },
      "id": "8fI9F7bycgFq",
      "execution_count": 66,
      "outputs": []
    },
    {
      "cell_type": "code",
      "source": [
        "lof_outliers = df.copy()\n",
        "lof_outliers = lof_outliers.drop(lof_outliers.index,axis = 0)\n",
        "lof_outliers"
      ],
      "metadata": {
        "colab": {
          "base_uri": "https://localhost:8080/",
          "height": 93
        },
        "id": "SJiLYTCoko0J",
        "outputId": "2d7fc02a-10f7-4008-f1d6-20730b984bb5"
      },
      "id": "SJiLYTCoko0J",
      "execution_count": 67,
      "outputs": [
        {
          "output_type": "execute_result",
          "data": {
            "text/plain": [
              "Empty DataFrame\n",
              "Columns: [age, anaemia, creatinine_phosphokinase, diabetes, ejection_fraction, high_blood_pressure, platelets, serum_creatinine, serum_sodium, sex, smoking, time, DEATH_EVENT]\n",
              "Index: []"
            ],
            "text/html": [
              "\n",
              "  <div id=\"df-24f82210-44e1-453f-be1e-63a41139a163\">\n",
              "    <div class=\"colab-df-container\">\n",
              "      <div>\n",
              "<style scoped>\n",
              "    .dataframe tbody tr th:only-of-type {\n",
              "        vertical-align: middle;\n",
              "    }\n",
              "\n",
              "    .dataframe tbody tr th {\n",
              "        vertical-align: top;\n",
              "    }\n",
              "\n",
              "    .dataframe thead th {\n",
              "        text-align: right;\n",
              "    }\n",
              "</style>\n",
              "<table border=\"1\" class=\"dataframe\">\n",
              "  <thead>\n",
              "    <tr style=\"text-align: right;\">\n",
              "      <th></th>\n",
              "      <th>age</th>\n",
              "      <th>anaemia</th>\n",
              "      <th>creatinine_phosphokinase</th>\n",
              "      <th>diabetes</th>\n",
              "      <th>ejection_fraction</th>\n",
              "      <th>high_blood_pressure</th>\n",
              "      <th>platelets</th>\n",
              "      <th>serum_creatinine</th>\n",
              "      <th>serum_sodium</th>\n",
              "      <th>sex</th>\n",
              "      <th>smoking</th>\n",
              "      <th>time</th>\n",
              "      <th>DEATH_EVENT</th>\n",
              "    </tr>\n",
              "  </thead>\n",
              "  <tbody>\n",
              "  </tbody>\n",
              "</table>\n",
              "</div>\n",
              "      <button class=\"colab-df-convert\" onclick=\"convertToInteractive('df-24f82210-44e1-453f-be1e-63a41139a163')\"\n",
              "              title=\"Convert this dataframe to an interactive table.\"\n",
              "              style=\"display:none;\">\n",
              "        \n",
              "  <svg xmlns=\"http://www.w3.org/2000/svg\" height=\"24px\"viewBox=\"0 0 24 24\"\n",
              "       width=\"24px\">\n",
              "    <path d=\"M0 0h24v24H0V0z\" fill=\"none\"/>\n",
              "    <path d=\"M18.56 5.44l.94 2.06.94-2.06 2.06-.94-2.06-.94-.94-2.06-.94 2.06-2.06.94zm-11 1L8.5 8.5l.94-2.06 2.06-.94-2.06-.94L8.5 2.5l-.94 2.06-2.06.94zm10 10l.94 2.06.94-2.06 2.06-.94-2.06-.94-.94-2.06-.94 2.06-2.06.94z\"/><path d=\"M17.41 7.96l-1.37-1.37c-.4-.4-.92-.59-1.43-.59-.52 0-1.04.2-1.43.59L10.3 9.45l-7.72 7.72c-.78.78-.78 2.05 0 2.83L4 21.41c.39.39.9.59 1.41.59.51 0 1.02-.2 1.41-.59l7.78-7.78 2.81-2.81c.8-.78.8-2.07 0-2.86zM5.41 20L4 18.59l7.72-7.72 1.47 1.35L5.41 20z\"/>\n",
              "  </svg>\n",
              "      </button>\n",
              "      \n",
              "  <style>\n",
              "    .colab-df-container {\n",
              "      display:flex;\n",
              "      flex-wrap:wrap;\n",
              "      gap: 12px;\n",
              "    }\n",
              "\n",
              "    .colab-df-convert {\n",
              "      background-color: #E8F0FE;\n",
              "      border: none;\n",
              "      border-radius: 50%;\n",
              "      cursor: pointer;\n",
              "      display: none;\n",
              "      fill: #1967D2;\n",
              "      height: 32px;\n",
              "      padding: 0 0 0 0;\n",
              "      width: 32px;\n",
              "    }\n",
              "\n",
              "    .colab-df-convert:hover {\n",
              "      background-color: #E2EBFA;\n",
              "      box-shadow: 0px 1px 2px rgba(60, 64, 67, 0.3), 0px 1px 3px 1px rgba(60, 64, 67, 0.15);\n",
              "      fill: #174EA6;\n",
              "    }\n",
              "\n",
              "    [theme=dark] .colab-df-convert {\n",
              "      background-color: #3B4455;\n",
              "      fill: #D2E3FC;\n",
              "    }\n",
              "\n",
              "    [theme=dark] .colab-df-convert:hover {\n",
              "      background-color: #434B5C;\n",
              "      box-shadow: 0px 1px 3px 1px rgba(0, 0, 0, 0.15);\n",
              "      filter: drop-shadow(0px 1px 2px rgba(0, 0, 0, 0.3));\n",
              "      fill: #FFFFFF;\n",
              "    }\n",
              "  </style>\n",
              "\n",
              "      <script>\n",
              "        const buttonEl =\n",
              "          document.querySelector('#df-24f82210-44e1-453f-be1e-63a41139a163 button.colab-df-convert');\n",
              "        buttonEl.style.display =\n",
              "          google.colab.kernel.accessAllowed ? 'block' : 'none';\n",
              "\n",
              "        async function convertToInteractive(key) {\n",
              "          const element = document.querySelector('#df-24f82210-44e1-453f-be1e-63a41139a163');\n",
              "          const dataTable =\n",
              "            await google.colab.kernel.invokeFunction('convertToInteractive',\n",
              "                                                     [key], {});\n",
              "          if (!dataTable) return;\n",
              "\n",
              "          const docLinkHtml = 'Like what you see? Visit the ' +\n",
              "            '<a target=\"_blank\" href=https://colab.research.google.com/notebooks/data_table.ipynb>data table notebook</a>'\n",
              "            + ' to learn more about interactive tables.';\n",
              "          element.innerHTML = '';\n",
              "          dataTable['output_type'] = 'display_data';\n",
              "          await google.colab.output.renderOutput(dataTable, element);\n",
              "          const docLink = document.createElement('div');\n",
              "          docLink.innerHTML = docLinkHtml;\n",
              "          element.appendChild(docLink);\n",
              "        }\n",
              "      </script>\n",
              "    </div>\n",
              "  </div>\n",
              "  "
            ]
          },
          "metadata": {},
          "execution_count": 67
        }
      ]
    },
    {
      "cell_type": "code",
      "source": [
        "\n",
        "lof = LocalOutlierFactor(n_neighbors=50)\n",
        "df['lof'] = lof.fit_predict(df)\n",
        "lof_outliers = lof_outliers.append(df[df['lof'] == -1])\n",
        "df.drop('lof',axis = 1, inplace = True)"
      ],
      "metadata": {
        "colab": {
          "base_uri": "https://localhost:8080/"
        },
        "id": "YWjea0R3coia",
        "outputId": "13e0f2bb-d412-46ef-92a2-029f91fbc022"
      },
      "id": "YWjea0R3coia",
      "execution_count": 68,
      "outputs": [
        {
          "output_type": "stream",
          "name": "stderr",
          "text": [
            "<ipython-input-68-37b0c428f20c>:3: FutureWarning: The frame.append method is deprecated and will be removed from pandas in a future version. Use pandas.concat instead.\n",
            "  lof_outliers = lof_outliers.append(df[df['lof'] == -1])\n"
          ]
        }
      ]
    },
    {
      "cell_type": "markdown",
      "id": "8c57f9bb",
      "metadata": {
        "id": "8c57f9bb"
      },
      "source": [
        "### Removing outlier data for age"
      ]
    },
    {
      "cell_type": "code",
      "execution_count": 69,
      "id": "bd70bf11",
      "metadata": {
        "id": "bd70bf11",
        "outputId": "8e52d429-14dd-49ec-ba4f-2962262aa87b",
        "colab": {
          "base_uri": "https://localhost:8080/",
          "height": 466
        }
      },
      "outputs": [
        {
          "output_type": "execute_result",
          "data": {
            "text/plain": [
              "<Axes: xlabel='DEATH_EVENT', ylabel='age'>"
            ]
          },
          "metadata": {},
          "execution_count": 69
        },
        {
          "output_type": "display_data",
          "data": {
            "text/plain": [
              "<Figure size 640x480 with 1 Axes>"
            ],
            "image/png": "[encoded data removed]"
          },
          "metadata": {}
        }
      ],
      "source": [
        "sns.boxplot(df, x='DEATH_EVENT', y='age')"
      ]
    },
    {
      "cell_type": "code",
      "source": [
        "numerical_features"
      ],
      "metadata": {
        "colab": {
          "base_uri": "https://localhost:8080/"
        },
        "id": "aaDd9yT6UXQ1",
        "outputId": "e0514e0d-f5f1-4b1b-e041-50a2700a86d1"
      },
      "id": "aaDd9yT6UXQ1",
      "execution_count": 70,
      "outputs": [
        {
          "output_type": "execute_result",
          "data": {
            "text/plain": [
              "['age',\n",
              " 'creatinine_phosphokinase',\n",
              " 'ejection_fraction',\n",
              " 'platelets',\n",
              " 'serum_creatinine',\n",
              " 'serum_sodium',\n",
              " 'time']"
            ]
          },
          "metadata": {},
          "execution_count": 70
        }
      ]
    },
    {
      "cell_type": "code",
      "execution_count": 71,
      "id": "c10ee348",
      "metadata": {
        "id": "c10ee348",
        "outputId": "719eb79a-d240-4a47-a63d-37e613772cf1",
        "colab": {
          "base_uri": "https://localhost:8080/",
          "height": 144
        }
      },
      "outputs": [
        {
          "output_type": "execute_result",
          "data": {
            "text/plain": [
              "      age  anaemia  creatinine_phosphokinase  diabetes  ejection_fraction  \\\n",
              "289  90.0        1                       337         0                 38   \n",
              "\n",
              "     high_blood_pressure  platelets  serum_creatinine  serum_sodium  sex  \\\n",
              "289                    0   390000.0               0.9           144    0   \n",
              "\n",
              "     smoking  time  DEATH_EVENT  \n",
              "289        0   256            0  "
            ],
            "text/html": [
              "\n",
              "  <div id=\"df-a2450f3f-44cd-4d3f-9278-864ef14b6d34\">\n",
              "    <div class=\"colab-df-container\">\n",
              "      <div>\n",
              "<style scoped>\n",
              "    .dataframe tbody tr th:only-of-type {\n",
              "        vertical-align: middle;\n",
              "    }\n",
              "\n",
              "    .dataframe tbody tr th {\n",
              "        vertical-align: top;\n",
              "    }\n",
              "\n",
              "    .dataframe thead th {\n",
              "        text-align: right;\n",
              "    }\n",
              "</style>\n",
              "<table border=\"1\" class=\"dataframe\">\n",
              "  <thead>\n",
              "    <tr style=\"text-align: right;\">\n",
              "      <th></th>\n",
              "      <th>age</th>\n",
              "      <th>anaemia</th>\n",
              "      <th>creatinine_phosphokinase</th>\n",
              "      <th>diabetes</th>\n",
              "      <th>ejection_fraction</th>\n",
              "      <th>high_blood_pressure</th>\n",
              "      <th>platelets</th>\n",
              "      <th>serum_creatinine</th>\n",
              "      <th>serum_sodium</th>\n",
              "      <th>sex</th>\n",
              "      <th>smoking</th>\n",
              "      <th>time</th>\n",
              "      <th>DEATH_EVENT</th>\n",
              "    </tr>\n",
              "  </thead>\n",
              "  <tbody>\n",
              "    <tr>\n",
              "      <th>289</th>\n",
              "      <td>90.0</td>\n",
              "      <td>1</td>\n",
              "      <td>337</td>\n",
              "      <td>0</td>\n",
              "      <td>38</td>\n",
              "      <td>0</td>\n",
              "      <td>390000.0</td>\n",
              "      <td>0.9</td>\n",
              "      <td>144</td>\n",
              "      <td>0</td>\n",
              "      <td>0</td>\n",
              "      <td>256</td>\n",
              "      <td>0</td>\n",
              "    </tr>\n",
              "  </tbody>\n",
              "</table>\n",
              "</div>\n",
              "      <button class=\"colab-df-convert\" onclick=\"convertToInteractive('df-a2450f3f-44cd-4d3f-9278-864ef14b6d34')\"\n",
              "              title=\"Convert this dataframe to an interactive table.\"\n",
              "              style=\"display:none;\">\n",
              "        \n",
              "  <svg xmlns=\"http://www.w3.org/2000/svg\" height=\"24px\"viewBox=\"0 0 24 24\"\n",
              "       width=\"24px\">\n",
              "    <path d=\"M0 0h24v24H0V0z\" fill=\"none\"/>\n",
              "    <path d=\"M18.56 5.44l.94 2.06.94-2.06 2.06-.94-2.06-.94-.94-2.06-.94 2.06-2.06.94zm-11 1L8.5 8.5l.94-2.06 2.06-.94-2.06-.94L8.5 2.5l-.94 2.06-2.06.94zm10 10l.94 2.06.94-2.06 2.06-.94-2.06-.94-.94-2.06-.94 2.06-2.06.94z\"/><path d=\"M17.41 7.96l-1.37-1.37c-.4-.4-.92-.59-1.43-.59-.52 0-1.04.2-1.43.59L10.3 9.45l-7.72 7.72c-.78.78-.78 2.05 0 2.83L4 21.41c.39.39.9.59 1.41.59.51 0 1.02-.2 1.41-.59l7.78-7.78 2.81-2.81c.8-.78.8-2.07 0-2.86zM5.41 20L4 18.59l7.72-7.72 1.47 1.35L5.41 20z\"/>\n",
              "  </svg>\n",
              "      </button>\n",
              "      \n",
              "  <style>\n",
              "    .colab-df-container {\n",
              "      display:flex;\n",
              "      flex-wrap:wrap;\n",
              "      gap: 12px;\n",
              "    }\n",
              "\n",
              "    .colab-df-convert {\n",
              "      background-color: #E8F0FE;\n",
              "      border: none;\n",
              "      border-radius: 50%;\n",
              "      cursor: pointer;\n",
              "      display: none;\n",
              "      fill: #1967D2;\n",
              "      height: 32px;\n",
              "      padding: 0 0 0 0;\n",
              "      width: 32px;\n",
              "    }\n",
              "\n",
              "    .colab-df-convert:hover {\n",
              "      background-color: #E2EBFA;\n",
              "      box-shadow: 0px 1px 2px rgba(60, 64, 67, 0.3), 0px 1px 3px 1px rgba(60, 64, 67, 0.15);\n",
              "      fill: #174EA6;\n",
              "    }\n",
              "\n",
              "    [theme=dark] .colab-df-convert {\n",
              "      background-color: #3B4455;\n",
              "      fill: #D2E3FC;\n",
              "    }\n",
              "\n",
              "    [theme=dark] .colab-df-convert:hover {\n",
              "      background-color: #434B5C;\n",
              "      box-shadow: 0px 1px 3px 1px rgba(0, 0, 0, 0.15);\n",
              "      filter: drop-shadow(0px 1px 2px rgba(0, 0, 0, 0.3));\n",
              "      fill: #FFFFFF;\n",
              "    }\n",
              "  </style>\n",
              "\n",
              "      <script>\n",
              "        const buttonEl =\n",
              "          document.querySelector('#df-a2450f3f-44cd-4d3f-9278-864ef14b6d34 button.colab-df-convert');\n",
              "        buttonEl.style.display =\n",
              "          google.colab.kernel.accessAllowed ? 'block' : 'none';\n",
              "\n",
              "        async function convertToInteractive(key) {\n",
              "          const element = document.querySelector('#df-a2450f3f-44cd-4d3f-9278-864ef14b6d34');\n",
              "          const dataTable =\n",
              "            await google.colab.kernel.invokeFunction('convertToInteractive',\n",
              "                                                     [key], {});\n",
              "          if (!dataTable) return;\n",
              "\n",
              "          const docLinkHtml = 'Like what you see? Visit the ' +\n",
              "            '<a target=\"_blank\" href=https://colab.research.google.com/notebooks/data_table.ipynb>data table notebook</a>'\n",
              "            + ' to learn more about interactive tables.';\n",
              "          element.innerHTML = '';\n",
              "          dataTable['output_type'] = 'display_data';\n",
              "          await google.colab.output.renderOutput(dataTable, element);\n",
              "          const docLink = document.createElement('div');\n",
              "          docLink.innerHTML = docLinkHtml;\n",
              "          element.appendChild(docLink);\n",
              "        }\n",
              "      </script>\n",
              "    </div>\n",
              "  </div>\n",
              "  "
            ]
          },
          "metadata": {},
          "execution_count": 71
        }
      ],
      "source": [
        "boxplot_outliers = df[(df['age'] > 85)  & (df['DEATH_EVENT'] == 0)]\n",
        "boxplot_outliers"
      ]
    },
    {
      "cell_type": "code",
      "execution_count": 72,
      "id": "d869d7f0",
      "metadata": {
        "id": "d869d7f0"
      },
      "outputs": [],
      "source": [
        "index_drop_age_0 = df[(df['age'] > 85)  & (df['DEATH_EVENT'] == 0)].index\n",
        "# df = df.drop(index_drop_age_0, axis = 0)"
      ]
    },
    {
      "cell_type": "markdown",
      "id": "5b567abc",
      "metadata": {
        "id": "5b567abc"
      },
      "source": [
        "### Removing outlier data for resting_blood_pressure"
      ]
    },
    {
      "cell_type": "code",
      "execution_count": 73,
      "id": "d3152c86",
      "metadata": {
        "id": "d3152c86",
        "outputId": "e4ab9fef-0938-4058-d9f3-6bf2cbaaf211",
        "colab": {
          "base_uri": "https://localhost:8080/",
          "height": 466
        }
      },
      "outputs": [
        {
          "output_type": "execute_result",
          "data": {
            "text/plain": [
              "<Axes: xlabel='DEATH_EVENT', ylabel='creatinine_phosphokinase'>"
            ]
          },
          "metadata": {},
          "execution_count": 73
        },
        {
          "output_type": "display_data",
          "data": {
            "text/plain": [
              "<Figure size 640x480 with 1 Axes>"
            ],
            "image/png": "[encoded data removed]"
          },
          "metadata": {}
        }
      ],
      "source": [
        "sns.boxplot(df, x='DEATH_EVENT', y='creatinine_phosphokinase')"
      ]
    },
    {
      "cell_type": "code",
      "execution_count": 74,
      "id": "03a6183e",
      "metadata": {
        "id": "03a6183e",
        "outputId": "29cf1e5e-50f9-452e-fadb-a7a2e86495ed",
        "colab": {
          "base_uri": "https://localhost:8080/"
        }
      },
      "outputs": [
        {
          "output_type": "stream",
          "name": "stderr",
          "text": [
            "<ipython-input-74-e1d74491fa68>:1: FutureWarning: The frame.append method is deprecated and will be removed from pandas in a future version. Use pandas.concat instead.\n",
            "  boxplot_outliers = boxplot_outliers.append(df[(df['creatinine_phosphokinase'] >= 1500) & (df['DEATH_EVENT'] == 0)])\n"
          ]
        }
      ],
      "source": [
        "boxplot_outliers = boxplot_outliers.append(df[(df['creatinine_phosphokinase'] >= 1500) & (df['DEATH_EVENT'] == 0)])"
      ]
    },
    {
      "cell_type": "code",
      "execution_count": 75,
      "id": "f155497e",
      "metadata": {
        "id": "f155497e"
      },
      "outputs": [],
      "source": [
        "index_drop_resting_blood_pressure_0 = df[(df['creatinine_phosphokinase'] >= 1500) & (df['DEATH_EVENT'] == 0)].index\n",
        "# df = df.drop(index_drop_resting_blood_pressure_0, axis = 0)"
      ]
    },
    {
      "cell_type": "code",
      "source": [
        "sns.boxplot(df, x='DEATH_EVENT', y='ejection_fraction')"
      ],
      "metadata": {
        "colab": {
          "base_uri": "https://localhost:8080/",
          "height": 466
        },
        "id": "Hef66IksVLvQ",
        "outputId": "66442502-c00b-4e2d-b57a-713253de1aa6"
      },
      "id": "Hef66IksVLvQ",
      "execution_count": 76,
      "outputs": [
        {
          "output_type": "execute_result",
          "data": {
            "text/plain": [
              "<Axes: xlabel='DEATH_EVENT', ylabel='ejection_fraction'>"
            ]
          },
          "metadata": {},
          "execution_count": 76
        },
        {
          "output_type": "display_data",
          "data": {
            "text/plain": [
              "<Figure size 640x480 with 1 Axes>"
            ],
            "image/png": "[encoded data removed]"
          },
          "metadata": {}
        }
      ]
    },
    {
      "cell_type": "code",
      "execution_count": 77,
      "id": "2ec3252b",
      "metadata": {
        "id": "2ec3252b",
        "outputId": "9f55e889-196f-4156-d046-44d1235605d2",
        "colab": {
          "base_uri": "https://localhost:8080/"
        }
      },
      "outputs": [
        {
          "output_type": "stream",
          "name": "stderr",
          "text": [
            "<ipython-input-77-c9c500388358>:1: FutureWarning: The frame.append method is deprecated and will be removed from pandas in a future version. Use pandas.concat instead.\n",
            "  boxplot_outliers = boxplot_outliers.append(df[((df['ejection_fraction'] > 60) | (df['ejection_fraction'] < 20)) & (df['DEATH_EVENT'] == 0)])\n"
          ]
        }
      ],
      "source": [
        "boxplot_outliers = boxplot_outliers.append(df[((df['ejection_fraction'] > 60) | (df['ejection_fraction'] < 20)) & (df['DEATH_EVENT'] == 0)])"
      ]
    },
    {
      "cell_type": "code",
      "execution_count": 78,
      "id": "6e733597",
      "metadata": {
        "id": "6e733597"
      },
      "outputs": [],
      "source": [
        "index_drop_resting_blood_pressure_0 = df[((df['ejection_fraction'] > 60) | (df['ejection_fraction'] < 20)) & (df['DEATH_EVENT'] == 0)].index\n",
        "# df = df.drop(index_drop_resting_blood_pressure_0, axis = 0)"
      ]
    },
    {
      "cell_type": "code",
      "source": [
        "boxplot_outliers = boxplot_outliers.append(df[(df['ejection_fraction'] > 55) & (df['DEATH_EVENT'] == 1)])"
      ],
      "metadata": {
        "colab": {
          "base_uri": "https://localhost:8080/"
        },
        "id": "eW9g1RcxV5pF",
        "outputId": "53b697b2-e668-44eb-88dc-ab120db6d0e3"
      },
      "id": "eW9g1RcxV5pF",
      "execution_count": 79,
      "outputs": [
        {
          "output_type": "stream",
          "name": "stderr",
          "text": [
            "<ipython-input-79-6cbcb127c174>:1: FutureWarning: The frame.append method is deprecated and will be removed from pandas in a future version. Use pandas.concat instead.\n",
            "  boxplot_outliers = boxplot_outliers.append(df[(df['ejection_fraction'] > 55) & (df['DEATH_EVENT'] == 1)])\n"
          ]
        }
      ]
    },
    {
      "cell_type": "code",
      "source": [
        "index_drop_resting_blood_pressure_1 = df[(df['ejection_fraction'] > 55) & (df['DEATH_EVENT'] == 1)].index\n",
        "# df = df.drop(index_drop_resting_blood_pressure_1, axis = 0)"
      ],
      "metadata": {
        "id": "Fu59wqoxWNgL"
      },
      "id": "Fu59wqoxWNgL",
      "execution_count": 80,
      "outputs": []
    },
    {
      "cell_type": "code",
      "source": [
        "sns.boxplot(df, x='DEATH_EVENT', y='serum_creatinine')"
      ],
      "metadata": {
        "colab": {
          "base_uri": "https://localhost:8080/",
          "height": 466
        },
        "id": "-j1WAMSsXs1T",
        "outputId": "21922cd8-badf-4e96-99c8-8de38ac34c12"
      },
      "id": "-j1WAMSsXs1T",
      "execution_count": 81,
      "outputs": [
        {
          "output_type": "execute_result",
          "data": {
            "text/plain": [
              "<Axes: xlabel='DEATH_EVENT', ylabel='serum_creatinine'>"
            ]
          },
          "metadata": {},
          "execution_count": 81
        },
        {
          "output_type": "display_data",
          "data": {
            "text/plain": [
              "<Figure size 640x480 with 1 Axes>"
            ],
            "image/png": "[encoded data removed]"
          },
          "metadata": {}
        }
      ]
    },
    {
      "cell_type": "markdown",
      "id": "87afed2c",
      "metadata": {
        "id": "87afed2c"
      },
      "source": [
        "## Removing outlier data for serum_sodium"
      ]
    },
    {
      "cell_type": "code",
      "source": [
        "df.shape"
      ],
      "metadata": {
        "colab": {
          "base_uri": "https://localhost:8080/"
        },
        "id": "51XLNCpTWoIn",
        "outputId": "cd9540c1-0873-4779-a8be-6d8c635bfb61"
      },
      "id": "51XLNCpTWoIn",
      "execution_count": 82,
      "outputs": [
        {
          "output_type": "execute_result",
          "data": {
            "text/plain": [
              "(299, 13)"
            ]
          },
          "metadata": {},
          "execution_count": 82
        }
      ]
    },
    {
      "cell_type": "code",
      "execution_count": 83,
      "id": "ebb21031",
      "metadata": {
        "id": "ebb21031",
        "outputId": "eebbd2ac-549b-42af-8edc-62a876786667",
        "colab": {
          "base_uri": "https://localhost:8080/",
          "height": 466
        }
      },
      "outputs": [
        {
          "output_type": "execute_result",
          "data": {
            "text/plain": [
              "<Axes: xlabel='DEATH_EVENT', ylabel='serum_sodium'>"
            ]
          },
          "metadata": {},
          "execution_count": 83
        },
        {
          "output_type": "display_data",
          "data": {
            "text/plain": [
              "<Figure size 640x480 with 1 Axes>"
            ],
            "image/png": "[encoded data removed]"
          },
          "metadata": {}
        }
      ],
      "source": [
        "sns.boxplot(df, x='DEATH_EVENT', y='serum_sodium')"
      ]
    },
    {
      "cell_type": "code",
      "execution_count": 84,
      "id": "37e71dbd",
      "metadata": {
        "id": "37e71dbd",
        "outputId": "b1c5ca5c-0097-4be4-90a9-b1094d097876",
        "colab": {
          "base_uri": "https://localhost:8080/"
        }
      },
      "outputs": [
        {
          "output_type": "stream",
          "name": "stderr",
          "text": [
            "<ipython-input-84-b7ad1a58555e>:1: FutureWarning: The frame.append method is deprecated and will be removed from pandas in a future version. Use pandas.concat instead.\n",
            "  boxplot_outliers = boxplot_outliers.append(df[((df['serum_sodium'] > 145) | (df['serum_sodium'] < 128)) & (df['DEATH_EVENT'] == 0)])\n"
          ]
        }
      ],
      "source": [
        "boxplot_outliers = boxplot_outliers.append(df[((df['serum_sodium'] > 145) | (df['serum_sodium'] < 128)) & (df['DEATH_EVENT'] == 0)])"
      ]
    },
    {
      "cell_type": "code",
      "execution_count": 85,
      "id": "8c11f758",
      "metadata": {
        "id": "8c11f758"
      },
      "outputs": [],
      "source": [
        "index_drop_cholesterol_0 = df[((df['serum_sodium'] > 145) | (df['serum_sodium'] < 128)) & (df['DEATH_EVENT'] == 0)].index\n",
        "# df = df.drop(index_drop_cholesterol_0, axis = 0)"
      ]
    },
    {
      "cell_type": "code",
      "source": [
        "boxplot_outliers = boxplot_outliers.append(df[(df['serum_sodium'] < 126) & (df['DEATH_EVENT'] == 1)])"
      ],
      "metadata": {
        "colab": {
          "base_uri": "https://localhost:8080/"
        },
        "id": "VptbeIGnXEix",
        "outputId": "69529b46-bb7b-4c92-f7a8-046b01308a45"
      },
      "id": "VptbeIGnXEix",
      "execution_count": 86,
      "outputs": [
        {
          "output_type": "stream",
          "name": "stderr",
          "text": [
            "<ipython-input-86-c8b816259c98>:1: FutureWarning: The frame.append method is deprecated and will be removed from pandas in a future version. Use pandas.concat instead.\n",
            "  boxplot_outliers = boxplot_outliers.append(df[(df['serum_sodium'] < 126) & (df['DEATH_EVENT'] == 1)])\n"
          ]
        }
      ]
    },
    {
      "cell_type": "code",
      "source": [
        "index_drop_cholesterol_1 = df[(df['serum_sodium'] < 126) & (df['DEATH_EVENT'] == 1)].index\n",
        "# df = df.drop(index_drop_cholesterol_1, axis = 0)"
      ],
      "metadata": {
        "id": "TU7Rk9_JXher"
      },
      "id": "TU7Rk9_JXher",
      "execution_count": 87,
      "outputs": []
    },
    {
      "cell_type": "markdown",
      "id": "958e0177",
      "metadata": {
        "id": "958e0177"
      },
      "source": [
        "### Removing outlier data for time"
      ]
    },
    {
      "cell_type": "code",
      "execution_count": 88,
      "id": "a81367b7",
      "metadata": {
        "id": "a81367b7",
        "outputId": "34f7935f-95e6-42f9-dd61-8b3b59fcc76c",
        "colab": {
          "base_uri": "https://localhost:8080/",
          "height": 466
        }
      },
      "outputs": [
        {
          "output_type": "execute_result",
          "data": {
            "text/plain": [
              "<Axes: xlabel='DEATH_EVENT', ylabel='time'>"
            ]
          },
          "metadata": {},
          "execution_count": 88
        },
        {
          "output_type": "display_data",
          "data": {
            "text/plain": [
              "<Figure size 640x480 with 1 Axes>"
            ],
            "image/png": "[encoded data removed]"
          },
          "metadata": {}
        }
      ],
      "source": [
        "sns.boxplot(df, x='DEATH_EVENT', y='time')"
      ]
    },
    {
      "cell_type": "code",
      "execution_count": 89,
      "id": "0c543217",
      "metadata": {
        "id": "0c543217",
        "outputId": "e4f9a280-8690-4633-e260-c9cc773833cd",
        "colab": {
          "base_uri": "https://localhost:8080/"
        }
      },
      "outputs": [
        {
          "output_type": "stream",
          "name": "stderr",
          "text": [
            "<ipython-input-89-9d77971eaeb9>:1: FutureWarning: The frame.append method is deprecated and will be removed from pandas in a future version. Use pandas.concat instead.\n",
            "  boxplot_outliers = boxplot_outliers.append(df[(df['time'] >240 ) & (df['DEATH_EVENT'] == 1)])\n"
          ]
        }
      ],
      "source": [
        "boxplot_outliers = boxplot_outliers.append(df[(df['time'] >240 ) & (df['DEATH_EVENT'] == 1)])"
      ]
    },
    {
      "cell_type": "code",
      "execution_count": 90,
      "id": "ead7c5f7",
      "metadata": {
        "id": "ead7c5f7"
      },
      "outputs": [],
      "source": [
        "index_drop_time_0 = df[(df['time'] >240 ) & (df['DEATH_EVENT'] == 1)].index\n",
        "# df = df.drop(index_drop_time_0, axis = 0)"
      ]
    },
    {
      "cell_type": "code",
      "execution_count": 91,
      "id": "d4523239",
      "metadata": {
        "id": "d4523239",
        "outputId": "83ac3fd7-7a8f-42c7-92ca-cf633ca5db4c",
        "colab": {
          "base_uri": "https://localhost:8080/",
          "height": 466
        }
      },
      "outputs": [
        {
          "output_type": "execute_result",
          "data": {
            "text/plain": [
              "<Axes: xlabel='DEATH_EVENT', ylabel='platelets'>"
            ]
          },
          "metadata": {},
          "execution_count": 91
        },
        {
          "output_type": "display_data",
          "data": {
            "text/plain": [
              "<Figure size 640x480 with 1 Axes>"
            ],
            "image/png": "[encoded data removed]"
          },
          "metadata": {}
        }
      ],
      "source": [
        "sns.boxplot(df, x='DEATH_EVENT', y='platelets')         "
      ]
    },
    {
      "cell_type": "code",
      "source": [
        "boxplot_outliers = boxplot_outliers.append(df[(df['platelets'] > 470000) & (df['DEATH_EVENT'] == 1)])"
      ],
      "metadata": {
        "colab": {
          "base_uri": "https://localhost:8080/"
        },
        "id": "Fk9CrEc8ZBHC",
        "outputId": "42641833-9595-43af-addf-e4285538c6af"
      },
      "id": "Fk9CrEc8ZBHC",
      "execution_count": 92,
      "outputs": [
        {
          "output_type": "stream",
          "name": "stderr",
          "text": [
            "<ipython-input-92-c2a7041bb649>:1: FutureWarning: The frame.append method is deprecated and will be removed from pandas in a future version. Use pandas.concat instead.\n",
            "  boxplot_outliers = boxplot_outliers.append(df[(df['platelets'] > 470000) & (df['DEATH_EVENT'] == 1)])\n"
          ]
        }
      ]
    },
    {
      "cell_type": "code",
      "execution_count": 93,
      "id": "ad24af76",
      "metadata": {
        "id": "ad24af76"
      },
      "outputs": [],
      "source": [
        "index_drop_platelets_1 = df[(df['platelets'] > 470000) & (df['DEATH_EVENT'] == 1)].index\n",
        "# df = df.drop(index_drop_platelets_1, axis = 0)"
      ]
    },
    {
      "cell_type": "code",
      "execution_count": 94,
      "id": "5fb6b1e2",
      "metadata": {
        "id": "5fb6b1e2",
        "outputId": "58ace53a-2bcb-4d94-9fcb-d36d15f7ac48",
        "colab": {
          "base_uri": "https://localhost:8080/"
        }
      },
      "outputs": [
        {
          "output_type": "stream",
          "name": "stderr",
          "text": [
            "<ipython-input-94-4fa09a473f18>:1: FutureWarning: The frame.append method is deprecated and will be removed from pandas in a future version. Use pandas.concat instead.\n",
            "  boxplot_outliers = boxplot_outliers.append(df[(df['platelets'] > 452000) & (df['DEATH_EVENT'] == 0)])\n"
          ]
        }
      ],
      "source": [
        "boxplot_outliers = boxplot_outliers.append(df[(df['platelets'] > 452000) & (df['DEATH_EVENT'] == 0)])"
      ]
    },
    {
      "cell_type": "code",
      "execution_count": 95,
      "id": "689467fe",
      "metadata": {
        "id": "689467fe"
      },
      "outputs": [],
      "source": [
        "index_drop_platelets_achieved_0 =df[(df['platelets'] > 452000) & (df['DEATH_EVENT'] == 0)].index\n",
        "# df = df.drop(index_drop_platelets_achieved_0, axis = 0)"
      ]
    },
    {
      "cell_type": "code",
      "source": [
        "df.shape"
      ],
      "metadata": {
        "colab": {
          "base_uri": "https://localhost:8080/"
        },
        "id": "axzk-WIBaQ8V",
        "outputId": "1fadafd8-59b5-4d8f-b63f-240a54307fd0"
      },
      "id": "axzk-WIBaQ8V",
      "execution_count": 96,
      "outputs": [
        {
          "output_type": "execute_result",
          "data": {
            "text/plain": [
              "(299, 13)"
            ]
          },
          "metadata": {},
          "execution_count": 96
        }
      ]
    },
    {
      "cell_type": "markdown",
      "id": "a6d5d2f5",
      "metadata": {
        "id": "a6d5d2f5"
      },
      "source": [
        "# Step 6: Scaling the Features"
      ]
    },
    {
      "cell_type": "code",
      "source": [
        "def my_model(df):\n",
        "    from sklearn.preprocessing import StandardScaler\n",
        "    scaler= StandardScaler()\n",
        "\n",
        "    #scale selected data\n",
        "    df_scaled = df.copy()\n",
        "    df_scaled[numerical_features] = scaler.fit_transform(df[numerical_features])\n",
        "\n",
        "    X=df_scaled.drop('DEATH_EVENT',axis=1)\n",
        "    y=df_scaled['DEATH_EVENT']\n",
        "\n",
        "    from sklearn.model_selection import train_test_split\n",
        "    X_train, X_test, y_train, y_test = train_test_split(X, y, test_size=0.2, random_state=10)\n",
        "\n",
        "    from sklearn.svm import SVC\n",
        "    svm_model= SVC()\n",
        "    svm_model.fit(X_train, y_train)\n",
        "\n",
        "    y_pred= svm_model.predict(X_test)\n",
        "\n",
        "\n",
        "\n",
        "    from sklearn.metrics import classification_report,confusion_matrix, accuracy_score\n",
        "    from sklearn import metrics\n",
        "\n",
        "    acc_score = accuracy_score(y_test, y_pred)\n",
        "    conf_matrix = confusion_matrix(y_test, y_pred)\n",
        "    class_report = classification_report(y_test, y_pred)\n",
        "\n",
        "    from sklearn.model_selection import GridSearchCV\n",
        "    svm = SVC()\n",
        "    param_grid = {'C':[0.01,0.1,1, 10, 100, 1000],'gamma':[1, 0.1, 0.01, 0.001, 0.0001],'kernel':['linear', 'poly', 'rbf', 'sigmoid']}\n",
        "    grid = GridSearchCV(svm,param_grid, cv=5)\n",
        "\n",
        "\n",
        "    grid.fit(X_train, y_train)\n",
        "    best_estimator_ = grid.best_estimator_\n",
        "    best_params_ = grid.best_params_\n",
        "    y_pred_grid= grid.predict(X_test)\n",
        "\n",
        "    best_model_acc_score = accuracy_score(y_test, y_pred_grid)\n",
        "    best_model_conf_matrix = confusion_matrix(y_test, y_pred_grid)\n",
        "    best_model_class_report = classification_report(y_test, y_pred_grid)\n",
        "\n",
        "    return acc_score, conf_matrix, class_report, best_model_acc_score, best_model_conf_matrix, best_model_class_report,best_estimator_ ,best_params_\n"
      ],
      "metadata": {
        "id": "hbBVI9lVsXA8"
      },
      "id": "hbBVI9lVsXA8",
      "execution_count": 97,
      "outputs": []
    },
    {
      "cell_type": "code",
      "execution_count": 98,
      "id": "14b6658e",
      "metadata": {
        "id": "14b6658e"
      },
      "outputs": [],
      "source": [
        "acc_score, conf_matrix, class_report, best_model_acc_score, best_model_conf_matrix, best_model_class_report, best_estimator_, best_params_ = my_model(df)\n"
      ]
    },
    {
      "cell_type": "code",
      "source": [
        "print('----------------- Default MODEL ----------------')\n",
        "print('\\n')\n",
        "print('accuracy_score: \\n', acc_score)\n",
        "print('\\n')\n",
        "print('confusion_matrix: \\n', conf_matrix)\n",
        "print('\\n')\n",
        "print('classification_report: \\n', class_report)\n",
        "print('\\n')\n",
        "print('----------------- BEST MODEL ----------------')\n",
        "print('\\n')\n",
        "print('best_estimator_: \\n', best_estimator_)\n",
        "print('\\n')\n",
        "print('best_params_: \\n', best_params_)\n",
        "print('\\n')\n",
        "print('best_model_accuracy_score: \\n', best_model_acc_score)\n",
        "print('\\n')\n",
        "print('best_model_confusion_matrix: \\n', best_model_conf_matrix)\n",
        "print('\\n')\n",
        "print('best_model_classification_report: \\n', best_model_class_report)"
      ],
      "metadata": {
        "colab": {
          "base_uri": "https://localhost:8080/"
        },
        "id": "jAIqsm21wZPc",
        "outputId": "8143d257-43bd-4f0e-e69a-8fc42561a704"
      },
      "id": "jAIqsm21wZPc",
      "execution_count": 99,
      "outputs": [
        {
          "output_type": "stream",
          "name": "stdout",
          "text": [
            "----------------- Default MODEL ----------------\n",
            "\n",
            "\n",
            "accuracy_score: \n",
            " 0.7166666666666667\n",
            "\n",
            "\n",
            "confusion_matrix: \n",
            " [[32 11]\n",
            " [ 6 11]]\n",
            "\n",
            "\n",
            "classification_report: \n",
            "               precision    recall  f1-score   support\n",
            "\n",
            "           0       0.84      0.74      0.79        43\n",
            "           1       0.50      0.65      0.56        17\n",
            "\n",
            "    accuracy                           0.72        60\n",
            "   macro avg       0.67      0.70      0.68        60\n",
            "weighted avg       0.75      0.72      0.73        60\n",
            "\n",
            "\n",
            "\n",
            "----------------- BEST MODEL ----------------\n",
            "\n",
            "\n",
            "best_estimator_: \n",
            " SVC(C=100, gamma=0.001)\n",
            "\n",
            "\n",
            "best_params_: \n",
            " {'C': 100, 'gamma': 0.001, 'kernel': 'rbf'}\n",
            "\n",
            "\n",
            "best_model_accuracy_score: \n",
            " 0.7166666666666667\n",
            "\n",
            "\n",
            "best_model_confusion_matrix: \n",
            " [[32 11]\n",
            " [ 6 11]]\n",
            "\n",
            "\n",
            "best_model_classification_report: \n",
            "               precision    recall  f1-score   support\n",
            "\n",
            "           0       0.84      0.74      0.79        43\n",
            "           1       0.50      0.65      0.56        17\n",
            "\n",
            "    accuracy                           0.72        60\n",
            "   macro avg       0.67      0.70      0.68        60\n",
            "weighted avg       0.75      0.72      0.73        60\n",
            "\n"
          ]
        }
      ]
    },
    {
      "cell_type": "code",
      "source": [
        "index_diff = lof_outliers.index.difference(boxplot_outliers.index)\n",
        "print(len(index_diff))\n",
        "index_diff"
      ],
      "metadata": {
        "colab": {
          "base_uri": "https://localhost:8080/"
        },
        "id": "SJmzl6fVjomT",
        "outputId": "0f648d35-ef15-4c33-ecae-f2b10612fd92"
      },
      "id": "SJmzl6fVjomT",
      "execution_count": 100,
      "outputs": [
        {
          "output_type": "stream",
          "name": "stdout",
          "text": [
            "13\n"
          ]
        },
        {
          "output_type": "execute_result",
          "data": {
            "text/plain": [
              "Int64Index([14, 15, 47, 55, 162, 163, 167, 176, 230, 275, 277, 279, 281], dtype='int64')"
            ]
          },
          "metadata": {},
          "execution_count": 100
        }
      ]
    },
    {
      "cell_type": "code",
      "source": [
        "index_diff = boxplot_outliers.index.difference(lof_outliers.index)\n",
        "print(len(index_diff))\n",
        "index_diff"
      ],
      "metadata": {
        "colab": {
          "base_uri": "https://localhost:8080/"
        },
        "id": "0SRki3iVrPTr",
        "outputId": "fba3304e-7848-4ddc-d292-b423cd6c22b2"
      },
      "id": "0SRki3iVrPTr",
      "execution_count": 101,
      "outputs": [
        {
          "output_type": "stream",
          "name": "stdout",
          "text": [
            "34\n"
          ]
        },
        {
          "output_type": "execute_result",
          "data": {
            "text/plain": [
              "Int64Index([  4,   8,  38,  44,  52,  64, 103, 107, 110, 113, 114, 126, 130,\n",
              "            134, 139, 147, 149, 153, 171, 199, 208, 210, 211, 217, 225, 227,\n",
              "            236, 250, 266, 280, 283, 289, 295, 297],\n",
              "           dtype='int64')"
            ]
          },
          "metadata": {},
          "execution_count": 101
        }
      ]
    },
    {
      "cell_type": "code",
      "source": [
        "print(lof_outliers.index)\n",
        "print(len(lof_outliers))"
      ],
      "metadata": {
        "colab": {
          "base_uri": "https://localhost:8080/"
        },
        "id": "R6_zfCCUh0Xt",
        "outputId": "f0f0b9db-d49d-4e74-ac29-e25ce0f6ffac"
      },
      "id": "R6_zfCCUh0Xt",
      "execution_count": 102,
      "outputs": [
        {
          "output_type": "stream",
          "name": "stdout",
          "text": [
            "Int64Index([  7,  14,  15,  19,  47,  55,  69, 105, 109, 117, 162, 163, 167,\n",
            "            176, 200, 212, 224, 230, 240, 275, 277, 279, 281, 287, 296],\n",
            "           dtype='int64')\n",
            "25\n"
          ]
        }
      ]
    },
    {
      "cell_type": "code",
      "source": [
        "print(boxplot_outliers.index.sort_values())\n",
        "print(len(boxplot_outliers))"
      ],
      "metadata": {
        "colab": {
          "base_uri": "https://localhost:8080/"
        },
        "id": "mnHCgDVDigOS",
        "outputId": "971ad8e2-6223-4522-b417-ce969e6717ba"
      },
      "id": "mnHCgDVDigOS",
      "execution_count": 103,
      "outputs": [
        {
          "output_type": "stream",
          "name": "stdout",
          "text": [
            "Int64Index([  4,   7,   8,  19,  38,  44,  52,  64,  69, 103, 105, 107, 109,\n",
            "            110, 113, 114, 117, 126, 130, 134, 139, 147, 149, 153, 171, 199,\n",
            "            200, 208, 210, 211, 212, 217, 224, 225, 227, 236, 240, 250, 266,\n",
            "            280, 283, 287, 289, 295, 296, 296, 297],\n",
            "           dtype='int64')\n",
            "47\n"
          ]
        }
      ]
    },
    {
      "cell_type": "markdown",
      "source": [
        "# **Drop LOF Outliers and Run Model**"
      ],
      "metadata": {
        "id": "-OR_rsGbvpTA"
      },
      "id": "-OR_rsGbvpTA"
    },
    {
      "cell_type": "code",
      "source": [
        "LOF_dropped_Outliers_df = df.drop(lof_outliers.index, axis = 0)\n",
        "print(LOF_dropped_Outliers_df.shape , '\\n')\n",
        "acc_score, conf_matrix, class_report, best_model_acc_score, best_model_conf_matrix, best_model_class_report, best_estimator_, best_params_ = my_model(LOF_dropped_Outliers_df)\n",
        "print('----------------- Default MODEL ----------------')\n",
        "print('\\n')\n",
        "print('accuracy_score: \\n', acc_score)\n",
        "print('\\n')\n",
        "print('confusion_matrix: \\n', conf_matrix)\n",
        "print('\\n')\n",
        "print('classification_report: \\n', class_report)\n",
        "print('\\n')\n",
        "print('----------------- BEST MODEL ----------------')\n",
        "print('\\n')\n",
        "print('best_estimator_: \\n', best_estimator_)\n",
        "print('\\n')\n",
        "print('best_params_: \\n', best_params_)\n",
        "print('\\n')\n",
        "print('best_model_accuracy_score: \\n', best_model_acc_score)\n",
        "print('\\n')\n",
        "print('best_model_confusion_matrix: \\n', best_model_conf_matrix)\n",
        "print('\\n')\n",
        "print('best_model_classification_report: \\n', best_model_class_report)"
      ],
      "metadata": {
        "colab": {
          "base_uri": "https://localhost:8080/"
        },
        "id": "7QodjdRvvokC",
        "outputId": "e54553d0-2d5b-4e67-d771-e7680df6bb77"
      },
      "id": "7QodjdRvvokC",
      "execution_count": 104,
      "outputs": [
        {
          "output_type": "stream",
          "name": "stdout",
          "text": [
            "(274, 13) \n",
            "\n",
            "----------------- Default MODEL ----------------\n",
            "\n",
            "\n",
            "accuracy_score: \n",
            " 0.8727272727272727\n",
            "\n",
            "\n",
            "confusion_matrix: \n",
            " [[36  3]\n",
            " [ 4 12]]\n",
            "\n",
            "\n",
            "classification_report: \n",
            "               precision    recall  f1-score   support\n",
            "\n",
            "           0       0.90      0.92      0.91        39\n",
            "           1       0.80      0.75      0.77        16\n",
            "\n",
            "    accuracy                           0.87        55\n",
            "   macro avg       0.85      0.84      0.84        55\n",
            "weighted avg       0.87      0.87      0.87        55\n",
            "\n",
            "\n",
            "\n",
            "----------------- BEST MODEL ----------------\n",
            "\n",
            "\n",
            "best_estimator_: \n",
            " SVC(C=100, gamma=0.001)\n",
            "\n",
            "\n",
            "best_params_: \n",
            " {'C': 100, 'gamma': 0.001, 'kernel': 'rbf'}\n",
            "\n",
            "\n",
            "best_model_accuracy_score: \n",
            " 0.9090909090909091\n",
            "\n",
            "\n",
            "best_model_confusion_matrix: \n",
            " [[37  2]\n",
            " [ 3 13]]\n",
            "\n",
            "\n",
            "best_model_classification_report: \n",
            "               precision    recall  f1-score   support\n",
            "\n",
            "           0       0.93      0.95      0.94        39\n",
            "           1       0.87      0.81      0.84        16\n",
            "\n",
            "    accuracy                           0.91        55\n",
            "   macro avg       0.90      0.88      0.89        55\n",
            "weighted avg       0.91      0.91      0.91        55\n",
            "\n"
          ]
        }
      ]
    },
    {
      "cell_type": "markdown",
      "source": [
        "# **Drop with BOX_PLOT detected Outliers and Run Model**"
      ],
      "metadata": {
        "id": "WXPBWsj_xTKH"
      },
      "id": "WXPBWsj_xTKH"
    },
    {
      "cell_type": "code",
      "source": [
        "boxplot_dropped_outliers_df = df.drop(boxplot_outliers.index, axis = 0)\n",
        "print(boxplot_dropped_outliers_df.shape , '\\n')\n",
        "acc_score, conf_matrix, class_report, best_model_acc_score, best_model_conf_matrix, best_model_class_report, best_estimator_, best_params_ = my_model(boxplot_dropped_outliers_df)\n",
        "print('----------------- Default MODEL ----------------')\n",
        "print('\\n')\n",
        "print('accuracy_score: \\n', acc_score)\n",
        "print('\\n')\n",
        "print('confusion_matrix: \\n', conf_matrix)\n",
        "print('\\n')\n",
        "print('classification_report: \\n', class_report)\n",
        "print('\\n')\n",
        "print('----------------- BEST MODEL ----------------')\n",
        "print('\\n')\n",
        "print('best_estimator_: \\n', best_estimator_)\n",
        "print('\\n')\n",
        "print('best_params_: \\n', best_params_)\n",
        "print('\\n')\n",
        "print('best_model_accuracy_score: \\n', best_model_acc_score)\n",
        "print('\\n')\n",
        "print('best_model_confusion_matrix: \\n', best_model_conf_matrix)\n",
        "print('\\n')\n",
        "print('best_model_classification_report: \\n', best_model_class_report)"
      ],
      "metadata": {
        "colab": {
          "base_uri": "https://localhost:8080/"
        },
        "id": "LmGOsuCIxUV4",
        "outputId": "024ebf58-39fd-4ef1-9c0b-6c252fcdd83d"
      },
      "id": "LmGOsuCIxUV4",
      "execution_count": 105,
      "outputs": [
        {
          "output_type": "stream",
          "name": "stdout",
          "text": [
            "(253, 13) \n",
            "\n",
            "----------------- Default MODEL ----------------\n",
            "\n",
            "\n",
            "accuracy_score: \n",
            " 0.8431372549019608\n",
            "\n",
            "\n",
            "confusion_matrix: \n",
            " [[34  4]\n",
            " [ 4  9]]\n",
            "\n",
            "\n",
            "classification_report: \n",
            "               precision    recall  f1-score   support\n",
            "\n",
            "           0       0.89      0.89      0.89        38\n",
            "           1       0.69      0.69      0.69        13\n",
            "\n",
            "    accuracy                           0.84        51\n",
            "   macro avg       0.79      0.79      0.79        51\n",
            "weighted avg       0.84      0.84      0.84        51\n",
            "\n",
            "\n",
            "\n",
            "----------------- BEST MODEL ----------------\n",
            "\n",
            "\n",
            "best_estimator_: \n",
            " SVC(C=10, gamma=0.01)\n",
            "\n",
            "\n",
            "best_params_: \n",
            " {'C': 10, 'gamma': 0.01, 'kernel': 'rbf'}\n",
            "\n",
            "\n",
            "best_model_accuracy_score: \n",
            " 0.7843137254901961\n",
            "\n",
            "\n",
            "best_model_confusion_matrix: \n",
            " [[32  6]\n",
            " [ 5  8]]\n",
            "\n",
            "\n",
            "best_model_classification_report: \n",
            "               precision    recall  f1-score   support\n",
            "\n",
            "           0       0.86      0.84      0.85        38\n",
            "           1       0.57      0.62      0.59        13\n",
            "\n",
            "    accuracy                           0.78        51\n",
            "   macro avg       0.72      0.73      0.72        51\n",
            "weighted avg       0.79      0.78      0.79        51\n",
            "\n"
          ]
        }
      ]
    }
  ],
  "metadata": {
    "kernelspec": {
      "display_name": "Python 3 (ipykernel)",
      "language": "python",
      "name": "python3"
    },
    "language_info": {
      "codemirror_mode": {
        "name": "ipython",
        "version": 3
      },
      "file_extension": ".py",
      "mimetype": "text/x-python",
      "name": "python",
      "nbconvert_exporter": "python",
      "pygments_lexer": "ipython3",
      "version": "3.8.8"
    },
    "colab": {
      "provenance": [],
      "gpuType": "T4",
      "include_colab_link": true
    },
    "accelerator": "GPU",
    "gpuClass": "standard"
  },
  "nbformat": 4,
  "nbformat_minor": 5
}